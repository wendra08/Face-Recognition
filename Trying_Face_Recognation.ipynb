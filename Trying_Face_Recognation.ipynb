{
  "cells": [
    {
      "cell_type": "code",
      "execution_count": 1,
      "metadata": {
        "colab": {
          "base_uri": "https://localhost:8080/"
        },
        "id": "AJDcWpZVSlVX",
        "outputId": "70b14546-647b-4e4f-b826-000eae4aa1a2"
      },
      "outputs": [],
      "source": [
        "!pip install opencv-python face_recognition scikit-learn"
      ]
    },
    {
      "cell_type": "markdown",
      "metadata": {
        "id": "edNHxnmkS8iu"
      },
      "source": [
        "#Capture Face Images from Camera: Capture images of faces and save them in separate directories for each person."
      ]
    },
    {
      "cell_type": "code",
      "execution_count": 2,
      "metadata": {
        "id": "jyv2NVNESpZP"
      },
      "outputs": [
        {
          "name": "stdout",
          "output_type": "stream",
          "text": [
            "Captured 100 images.\n"
          ]
        }
      ],
      "source": [
        "import cv2\n",
        "import os\n",
        "\n",
        "# Create directory to save face images\n",
        "def create_dir(nama):\n",
        "    os.makedirs(f'dataset/{nama}', exist_ok=True)\n",
        "\n",
        "# Capture images from webcam\n",
        "def capture_images(nama, max_photos=100):\n",
        "    create_dir(nama)\n",
        "    cap = cv2.VideoCapture(0)\n",
        "\n",
        "    if not cap.isOpened():\n",
        "        print(\"Error: Could not open the webcam.\")\n",
        "        return\n",
        "    \n",
        "    # Optionally set a smaller resolution\n",
        "    cap.set(cv2.CAP_PROP_FRAME_WIDTH, 640)\n",
        "    cap.set(cv2.CAP_PROP_FRAME_HEIGHT, 480)\n",
        "\n",
        "    count = 0\n",
        "    saved_images = 0\n",
        "\n",
        "    while True:\n",
        "        ret, frame = cap.read()\n",
        "        if not ret:\n",
        "            print(\"Error: Could not read frame.\")\n",
        "            break\n",
        "\n",
        "        # Show the live frame to the user\n",
        "        cv2.imshow('Capture Face', frame)\n",
        "\n",
        "        # Save every 5th frame to ensure enough samples\n",
        "        if count % 5 == 0 and saved_images < max_photos:\n",
        "            face_path = f'dataset/{nama}/{nama}_{saved_images}.jpg'\n",
        "            cv2.imwrite(face_path, frame)\n",
        "            saved_images += 1\n",
        "\n",
        "        count += 1\n",
        "\n",
        "        # Stop if 500 images are captured\n",
        "        if saved_images >= max_photos:\n",
        "            print(f\"Captured {max_photos} images.\")\n",
        "            break\n",
        "\n",
        "        # Press 'q' to exit capturing early\n",
        "        if cv2.waitKey(1) & 0xFF == ord('q'):\n",
        "            break\n",
        "\n",
        "    cap.release()\n",
        "    cv2.destroyAllWindows()\n",
        "\n",
        "# Example of how to call the function to capture images for a person\n",
        "nama = input(\"Enter the name of the person: \")\n",
        "capture_images(nama)"
      ]
    },
    {
      "cell_type": "code",
      "execution_count": null,
      "metadata": {},
      "outputs": [],
      "source": []
    },
    {
      "cell_type": "markdown",
      "metadata": {
        "id": "z-1JK_gzTAtp"
      },
      "source": [
        "#Preprocessing and Face Detection: After capturing images, we need to detect faces in each image, extract them, and save the cropped face."
      ]
    },
    {
      "cell_type": "code",
      "execution_count": 5,
      "metadata": {
        "id": "n5DOwM4GS2vO"
      },
      "outputs": [],
      "source": [
        "import cv2\n",
        "import face_recognition\n",
        "import os\n",
        "\n",
        "# Detect and crop faces from the images in the dataset\n",
        "def process_images(base_folder='dataset'):\n",
        "    # Loop through each folder in the base directory\n",
        "    for nama in os.listdir(base_folder):\n",
        "        folder_path = os.path.join(base_folder, nama)\n",
        "        \n",
        "        # Ensure the path is a directory\n",
        "        if os.path.isdir(folder_path):\n",
        "            for img_name in os.listdir(folder_path):\n",
        "                img_path = os.path.join(folder_path, img_name)\n",
        "                image = cv2.imread(img_path)\n",
        "\n",
        "                # Check if the image was loaded properly\n",
        "                if image is not None:\n",
        "                    face_locations = face_recognition.face_locations(image)\n",
        "\n",
        "                    for i, (top, right, bottom, left) in enumerate(face_locations):\n",
        "                        face_image = image[top:bottom, left:right]\n",
        "                        face_path = os.path.join(folder_path, f'face_{i}_{img_name}')\n",
        "                        cv2.imwrite(face_path, face_image)\n",
        "                else:\n",
        "                    print(f\"Warning: Could not read image {img_path}\")\n",
        "\n",
        "# Call the function to process images in all folders\n",
        "process_images()\n",
        "\n",
        "# Example usage:\n",
        "# process_images(nama)"
      ]
    },
    {
      "cell_type": "code",
      "execution_count": 6,
      "metadata": {
        "id": "imneW3cLTFSp"
      },
      "outputs": [],
      "source": [
        "#Extract Face Embeddings: Face embeddings convert each face into a fixed-size vector. You can use face_recognition for generating these embeddings."
      ]
    },
    {
      "cell_type": "code",
      "execution_count": 7,
      "metadata": {
        "id": "ocn8HaWuS419"
      },
      "outputs": [],
      "source": [
        "import numpy as np\n",
        "import face_recognition\n",
        "import os\n",
        "\n",
        "def get_face_encodings(nama):\n",
        "    encodings = []\n",
        "    labels = []\n",
        "    folder_path = f'dataset/{nama}/'\n",
        "\n",
        "    for img_name in os.listdir(folder_path):\n",
        "        img_path = os.path.join(folder_path, img_name)\n",
        "        image = cv2.imread(img_path)\n",
        "        rgb_image = cv2.cvtColor(image, cv2.COLOR_BGR2RGB)\n",
        "\n",
        "        # Get face encodings\n",
        "        face_encodings = face_recognition.face_encodings(rgb_image)\n",
        "\n",
        "        for encoding in face_encodings:\n",
        "            encodings.append(encoding)\n",
        "            labels.append(nama)\n",
        "\n",
        "    return encodings, labels\n",
        "\n",
        "# Collect data for all people\n",
        "all_encodings = []\n",
        "all_labels = []\n",
        "\n",
        "for person_name in os.listdir('dataset'):\n",
        "    encodings, labels = get_face_encodings(person_name)\n",
        "    all_encodings.extend(encodings)\n",
        "    all_labels.extend(labels)\n",
        "\n",
        "X = np.array(all_encodings)\n",
        "y = np.array(all_labels)\n"
      ]
    },
    {
      "cell_type": "code",
      "execution_count": 8,
      "metadata": {},
      "outputs": [],
      "source": [
        "import numpy as np\n",
        "\n",
        "# Misalkan all_encodings adalah daftar encoding wajah dan all_labels adalah daftar nama\n",
        "known_face_encodings = all_encodings  # Encoding wajah yang kamu hasilkan\n",
        "known_face_names = all_labels  # Nama-nama dari orang yang dikenali\n",
        "\n",
        "# Simpan encoding wajah dan nama menggunakan np.save\n",
        "np.save('known_face_encodings.npy', known_face_encodings)\n",
        "np.save('known_face_names.npy', known_face_names)\n"
      ]
    },
    {
      "cell_type": "markdown",
      "metadata": {
        "id": "kufOzuqHTIZk"
      },
      "source": [
        "#Train a Classifier (SVM or k-NN): Once the embeddings are collected, you can train a machine learning model like SVM or k-NN to classify the faces based on the embeddings."
      ]
    },
    {
      "cell_type": "code",
      "execution_count": 9,
      "metadata": {
        "colab": {
          "base_uri": "https://localhost:8080/",
          "height": 1000
        },
        "id": "3YpFXyBXTI7V",
        "outputId": "2006a0a5-1780-4c70-a2e6-cb19b682419c"
      },
      "outputs": [
        {
          "name": "stdout",
          "output_type": "stream",
          "text": [
            "Accuracy: 0.9809523809523809\n"
          ]
        }
      ],
      "source": [
        "from sklearn.svm import SVC\n",
        "from sklearn.model_selection import train_test_split\n",
        "from sklearn.metrics import accuracy_score\n",
        "\n",
        "# Split data into train and test sets\n",
        "X_train, X_test, y_train, y_test = train_test_split(X, y, test_size=0.2, random_state=42)\n",
        "\n",
        "# Train an SVM classifier\n",
        "classifier = SVC(kernel='linear', probability=True)\n",
        "classifier.fit(X_train, y_train)\n",
        "\n",
        "# Test the classifier\n",
        "y_pred = classifier.predict(X_test)\n",
        "print(f'Accuracy: {accuracy_score(y_test, y_pred)}')"
      ]
    },
    {
      "cell_type": "code",
      "execution_count": 10,
      "metadata": {},
      "outputs": [
        {
          "name": "stdout",
          "output_type": "stream",
          "text": [
            "Model has been saved.\n"
          ]
        }
      ],
      "source": [
        "import joblib\n",
        "\n",
        "# Simpan model ke dalam file\n",
        "joblib.dump(classifier, 'svm_face_recognition_model.pkl')\n",
        "print(\"Model has been saved.\")"
      ]
    },
    {
      "cell_type": "markdown",
      "metadata": {
        "id": "Qznm7GSkTOdJ"
      },
      "source": [
        "#Real-Time Face Recognition: Once the model is trained, use it to recognize faces from the webcam in real-time."
      ]
    },
    {
      "cell_type": "code",
      "execution_count": 11,
      "metadata": {
        "id": "HX9g0IMXTKTv"
      },
      "outputs": [
        {
          "ename": "KeyboardInterrupt",
          "evalue": "",
          "output_type": "error",
          "traceback": [
            "\u001b[1;31m---------------------------------------------------------------------------\u001b[0m",
            "\u001b[1;31mKeyboardInterrupt\u001b[0m                         Traceback (most recent call last)",
            "Cell \u001b[1;32mIn[11], line 45\u001b[0m\n\u001b[0;32m     42\u001b[0m     cv2\u001b[38;5;241m.\u001b[39mdestroyAllWindows()\n\u001b[0;32m     44\u001b[0m \u001b[38;5;66;03m# Recognize faces using the trained SVM classifier\u001b[39;00m\n\u001b[1;32m---> 45\u001b[0m \u001b[43mrecognize_faces\u001b[49m\u001b[43m(\u001b[49m\u001b[43mclassifier\u001b[49m\u001b[43m)\u001b[49m\n",
            "Cell \u001b[1;32mIn[11], line 32\u001b[0m, in \u001b[0;36mrecognize_faces\u001b[1;34m(classifier)\u001b[0m\n\u001b[0;32m     30\u001b[0m     \u001b[38;5;66;03m# Label the face\u001b[39;00m\n\u001b[0;32m     31\u001b[0m     label \u001b[38;5;241m=\u001b[39m \u001b[38;5;124mf\u001b[39m\u001b[38;5;124m'\u001b[39m\u001b[38;5;132;01m{\u001b[39;00mname\u001b[38;5;132;01m}\u001b[39;00m\u001b[38;5;124m (\u001b[39m\u001b[38;5;132;01m{\u001b[39;00mconfidence\u001b[38;5;132;01m:\u001b[39;00m\u001b[38;5;124m.2f\u001b[39m\u001b[38;5;132;01m}\u001b[39;00m\u001b[38;5;124m)\u001b[39m\u001b[38;5;124m'\u001b[39m\n\u001b[1;32m---> 32\u001b[0m     \u001b[43mcv2\u001b[49m\u001b[38;5;241;43m.\u001b[39;49m\u001b[43mputText\u001b[49m\u001b[43m(\u001b[49m\u001b[43mframe\u001b[49m\u001b[43m,\u001b[49m\u001b[43m \u001b[49m\u001b[43mlabel\u001b[49m\u001b[43m,\u001b[49m\u001b[43m \u001b[49m\u001b[43m(\u001b[49m\u001b[43mleft\u001b[49m\u001b[43m,\u001b[49m\u001b[43m \u001b[49m\u001b[43mtop\u001b[49m\u001b[43m \u001b[49m\u001b[38;5;241;43m-\u001b[39;49m\u001b[43m \u001b[49m\u001b[38;5;241;43m10\u001b[39;49m\u001b[43m)\u001b[49m\u001b[43m,\u001b[49m\u001b[43m \u001b[49m\u001b[43mcv2\u001b[49m\u001b[38;5;241;43m.\u001b[39;49m\u001b[43mFONT_HERSHEY_SIMPLEX\u001b[49m\u001b[43m,\u001b[49m\u001b[43m \u001b[49m\u001b[38;5;241;43m0.5\u001b[39;49m\u001b[43m,\u001b[49m\u001b[43m \u001b[49m\u001b[43m(\u001b[49m\u001b[38;5;241;43m0\u001b[39;49m\u001b[43m,\u001b[49m\u001b[43m \u001b[49m\u001b[38;5;241;43m0\u001b[39;49m\u001b[43m,\u001b[49m\u001b[43m \u001b[49m\u001b[38;5;241;43m255\u001b[39;49m\u001b[43m)\u001b[49m\u001b[43m,\u001b[49m\u001b[43m \u001b[49m\u001b[38;5;241;43m2\u001b[39;49m\u001b[43m)\u001b[49m\n\u001b[0;32m     34\u001b[0m \u001b[38;5;66;03m# Display the resulting image\u001b[39;00m\n\u001b[0;32m     35\u001b[0m cv2\u001b[38;5;241m.\u001b[39mimshow(\u001b[38;5;124m'\u001b[39m\u001b[38;5;124mFace Recognition\u001b[39m\u001b[38;5;124m'\u001b[39m, frame)\n",
            "\u001b[1;31mKeyboardInterrupt\u001b[0m: "
          ]
        },
        {
          "ename": "",
          "evalue": "",
          "output_type": "error",
          "traceback": [
            "\u001b[1;31mThe Kernel crashed while executing code in the current cell or a previous cell. \n",
            "\u001b[1;31mPlease review the code in the cell(s) to identify a possible cause of the failure. \n",
            "\u001b[1;31mClick <a href='https://aka.ms/vscodeJupyterKernelCrash'>here</a> for more info. \n",
            "\u001b[1;31mView Jupyter <a href='command:jupyter.viewOutput'>log</a> for further details."
          ]
        }
      ],
      "source": [
        "import cv2\n",
        "import face_recognition\n",
        "\n",
        "def recognize_faces(classifier):\n",
        "    cap = cv2.VideoCapture(0)\n",
        "\n",
        "    while True:\n",
        "        ret, frame = cap.read()\n",
        "        if not ret:\n",
        "            break\n",
        "\n",
        "        # Convert the frame to RGB (face_recognition uses RGB images)\n",
        "        rgb_frame = cv2.cvtColor(frame, cv2.COLOR_BGR2RGB)\n",
        "\n",
        "        # Detect face locations and encodings in the frame\n",
        "        face_locations = face_recognition.face_locations(rgb_frame)\n",
        "        face_encodings = face_recognition.face_encodings(rgb_frame, face_locations)\n",
        "\n",
        "        # Iterate over each detected face and recognize it\n",
        "        for (top, right, bottom, left), face_encoding in zip(face_locations, face_encodings):\n",
        "            # Predict the person\n",
        "            probabilities = classifier.predict_proba([face_encoding])[0]\n",
        "            best_match = np.argmax(probabilities)\n",
        "            name = classifier.classes_[best_match]\n",
        "            confidence = probabilities[best_match]\n",
        "\n",
        "            # Draw a box around the face\n",
        "            cv2.rectangle(frame, (left, top), (right, bottom), (0, 0, 255), 2)\n",
        "\n",
        "            # Label the face\n",
        "            label = f'{name} ({confidence:.2f})'\n",
        "            cv2.putText(frame, label, (left, top - 10), cv2.FONT_HERSHEY_SIMPLEX, 0.5, (0, 0, 255), 2)\n",
        "\n",
        "        # Display the resulting image\n",
        "        cv2.imshow('Face Recognition', frame)\n",
        "\n",
        "        # Break the loop on 'q' key\n",
        "        if cv2.waitKey(1) & 0xFF == ord('q'):\n",
        "            break\n",
        "\n",
        "    cap.release()\n",
        "    cv2.destroyAllWindows()\n",
        "\n",
        "# Recognize faces using the trained SVM classifier\n",
        "recognize_faces(classifier)"
      ]
    },
    {
      "cell_type": "markdown",
      "metadata": {
        "id": "5PC-o3ftTUU4"
      },
      "source": [
        "# Summary:\n",
        "- Data Collection: Capture face images using OpenCV.\n",
        "- Face Detection: Detect and crop faces using face_recognition.\n",
        "- Face Embeddings: Extract face embeddings (feature vectors) from the face images.\n",
        "- Model Training: Train a classifier (SVM or k-NN) using the face embeddings.\n",
        "- Real-Time Recognition: Use the trained classifier for real-time face recognition from the camera."
      ]
    },
    {
      "cell_type": "code",
      "execution_count": null,
      "metadata": {
        "id": "1nx1PTHyTU5l"
      },
      "outputs": [],
      "source": []
    }
  ],
  "metadata": {
    "colab": {
      "provenance": []
    },
    "kernelspec": {
      "display_name": "Python 3",
      "name": "python3"
    },
    "language_info": {
      "codemirror_mode": {
        "name": "ipython",
        "version": 3
      },
      "file_extension": ".py",
      "mimetype": "text/x-python",
      "name": "python",
      "nbconvert_exporter": "python",
      "pygments_lexer": "ipython3",
      "version": "3.9.4"
    }
  },
  "nbformat": 4,
  "nbformat_minor": 0
}
